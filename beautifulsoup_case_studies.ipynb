{
 "cells": [
  {
   "cell_type": "code",
   "execution_count": 1,
   "id": "03ab8a80",
   "metadata": {},
   "outputs": [],
   "source": [
    "import requests\n",
    "\n",
    "# Make a request to https://codedamn-classrooms.github.io/webscraper-python-codedamn-classroom-website/\n",
    "# Store the result in 'res' variable\n",
    "res = requests.get(\n",
    "    'https://codedamn-classrooms.github.io/webscraper-python-codedamn-classroom-website/')\n",
    "txt = res.text\n",
    "status = res.status_code"
   ]
  },
  {
   "cell_type": "code",
   "execution_count": 2,
   "id": "5fa3dd92",
   "metadata": {},
   "outputs": [],
   "source": [
    "from bs4 import BeautifulSoup\n",
    "\n",
    "page = requests.get(\"https://codedamn.com\")\n",
    "soup = BeautifulSoup(page.content, 'html.parser')\n",
    "title = soup.title.text"
   ]
  },
  {
   "cell_type": "code",
   "execution_count": 3,
   "id": "d780004e",
   "metadata": {},
   "outputs": [
    {
     "name": "stdout",
     "output_type": "stream",
     "text": [
      "Learn full-stack web development with interactive courses | codedamn\n"
     ]
    }
   ],
   "source": [
    "print(title)"
   ]
  },
  {
   "cell_type": "code",
   "execution_count": 4,
   "id": "43a357c8",
   "metadata": {},
   "outputs": [
    {
     "name": "stdout",
     "output_type": "stream",
     "text": [
      "[{'href': '', 'text': 'Toggle navigation'}, {'href': '/webscraper-python-codedamn-classroom-website/', 'text': ''}, {'href': '#page-top', 'text': ''}, {'href': '/webscraper-python-codedamn-classroom-website/', 'text': 'Web Scraper'}, {'href': '/webscraper-python-codedamn-classroom-website/cloud-scraper', 'text': 'Cloud Scraper'}, {'href': '/webscraper-python-codedamn-classroom-website/pricing', 'text': 'Pricing'}, {'href': '#section3', 'text': 'Learn'}, {'href': '/webscraper-python-codedamn-classroom-website/documentation', 'text': 'Documentation'}, {'href': '/webscraper-python-codedamn-classroom-website/tutorials', 'text': 'Video Tutorials'}, {'href': '/webscraper-python-codedamn-classroom-website/how-to-videos', 'text': 'How to'}, {'href': '/webscraper-python-codedamn-classroom-website/test-sites', 'text': 'Test Sites'}, {'href': 'https://forum.webscraper.io/', 'text': 'Forum'}, {'href': 'https://chrome.google.com/webstore/detail/web-scraper/jnhgnonknehpejjnehehllkliplmbmhn?hl=en', 'text': 'Install'}, {'href': 'https://cloud.webscraper.io/', 'text': 'Login'}, {'href': '/webscraper-python-codedamn-classroom-website/test-sites/e-commerce/allinone', 'text': 'Home'}, {'href': '/webscraper-python-codedamn-classroom-website/test-sites/e-commerce/allinone/computers', 'text': 'Computers'}, {'href': '/webscraper-python-codedamn-classroom-website/test-sites/e-commerce/allinone/phones', 'text': 'Phones'}, {'href': '/webscraper-python-codedamn-classroom-website/test-sites/e-commerce/allinone/product/593', 'text': 'Asus AsusPro Adv...'}, {'href': '/webscraper-python-codedamn-classroom-website/test-sites/e-commerce/allinone/product/583', 'text': 'Asus ROG Strix G...'}, {'href': '/webscraper-python-codedamn-classroom-website/test-sites/e-commerce/allinone/product/576', 'text': 'Acer Aspire 3 A3...'}, {'href': '/webscraper-python-codedamn-classroom-website/', 'text': 'Web Scraper browser extension'}, {'href': '/webscraper-python-codedamn-classroom-website/pricing', 'text': 'Web Scraper Cloud'}, {'href': '/webscraper-python-codedamn-classroom-website/contact', 'text': 'Contact'}, {'href': '/webscraper-python-codedamn-classroom-website/privacy-policy', 'text': 'Website Privacy Policy'}, {'href': '/webscraper-python-codedamn-classroom-website/extension-privacy-policy', 'text': 'Browser Extension Privacy Policy'}, {'href': 'http://webscraperio.us-east-1.elasticbeanstalk.com/downloads/Web_Scraper_Media_Kit.zip', 'text': 'Media kit'}, {'href': '/webscraper-python-codedamn-classroom-website/jobs', 'text': 'Jobs'}, {'href': '/webscraper-python-codedamn-classroom-website/blog', 'text': 'Blog'}, {'href': '/webscraper-python-codedamn-classroom-website/documentation', 'text': 'Documentation'}, {'href': '/webscraper-python-codedamn-classroom-website/tutorials', 'text': 'Video Tutorials'}, {'href': '/webscraper-python-codedamn-classroom-website/screenshots', 'text': 'Screenshots'}, {'href': '/webscraper-python-codedamn-classroom-website/test-sites', 'text': 'Test Sites'}, {'href': 'https://forum.webscraper.io/', 'text': 'Forum'}, {'href': 'mailto:info@webscraper.io', 'text': 'info@webscraper.io'}, {'href': 'https://www.facebook.com/webscraperio/', 'text': ''}, {'href': 'https://twitter.com/webscraperio', 'text': ''}, {'href': '#', 'text': 'Web Scraper'}]\n"
     ]
    }
   ],
   "source": [
    "import requests\n",
    "from bs4 import BeautifulSoup\n",
    "# Make a request\n",
    "page = requests.get(\n",
    "    \"https://codedamn-classrooms.github.io/webscraper-python-codedamn-classroom-website/\")\n",
    "soup = BeautifulSoup(page.content, 'html.parser')\n",
    "\n",
    "# Create top_items as empty list\n",
    "all_links = []\n",
    "\n",
    "# Extract and store in top_items according to instructions on the left\n",
    "links = soup.select('a')\n",
    "for ahref in links:\n",
    "    text = ahref.text\n",
    "    text = text.strip() if text is not None else ''\n",
    "\n",
    "    href = ahref.get('href')\n",
    "    href = href.strip() if href is not None else ''\n",
    "    all_links.append({\"href\": href, \"text\": text})\n",
    "\n",
    "print(all_links)"
   ]
  },
  {
   "cell_type": "code",
   "execution_count": 38,
   "id": "1695b617",
   "metadata": {},
   "outputs": [],
   "source": [
    "import requests\n",
    "from bs4 import BeautifulSoup\n",
    "import csv\n",
    "# Make a request\n",
    "page = requests.get(\n",
    "    \"https://codedamn-classrooms.github.io/webscraper-python-codedamn-classroom-website/\")\n",
    "soup = BeautifulSoup(page.content, 'html.parser')\n",
    "\n",
    "all_products = []\n",
    "\n",
    "products = soup.select('div.thumbnail')\n",
    "for product in products:\n",
    "    price=product.find('h4',class_='pull-right price').text\n",
    "    name= product.find('a',class_='title').text\n",
    "    description=product.find('p',class_=\"description\").text\n",
    "    all_products.append({\"name\":name,\"price\":price,\"description\":description})\n",
    "\n",
    "\n",
    "\n",
    "keys = all_products[0].keys()\n",
    "\n",
    "with open('products3.csv', 'w', newline='') as output_file:\n",
    "    dict_writer = csv.DictWriter(output_file, keys)\n",
    "    dict_writer.writeheader()\n",
    "    dict_writer.writerows(all_products)"
   ]
  },
  {
   "cell_type": "code",
   "execution_count": 17,
   "id": "50b830a5",
   "metadata": {},
   "outputs": [
    {
     "name": "stderr",
     "output_type": "stream",
     "text": [
      "C:\\Users\\anacondainstallation\\lib\\site-packages\\urllib3\\connectionpool.py:1013: InsecureRequestWarning: Unverified HTTPS request is being made to host 'www.values.com'. Adding certificate verification is strongly advised. See: https://urllib3.readthedocs.io/en/latest/advanced-usage.html#ssl-warnings\n",
      "  warnings.warn(\n",
      "C:\\Users\\anacondainstallation\\lib\\site-packages\\urllib3\\connectionpool.py:1013: InsecureRequestWarning: Unverified HTTPS request is being made to host 'www.passiton.com'. Adding certificate verification is strongly advised. See: https://urllib3.readthedocs.io/en/latest/advanced-usage.html#ssl-warnings\n",
      "  warnings.warn(\n"
     ]
    },
    {
     "name": "stdout",
     "output_type": "stream",
     "text": [
      "{'theme': 'PEACE', 'url': '/inspirational-quotes/8335-i-truly-believe-the-only-way-we-can-create', 'img': 'https://assets.passiton.com/quotes/quote_artwork/8335/medium/20220606_monday_quote.jpg?1652481823', 'lines': 'I truly believe the only way we can create global peace is through not only educating our minds, but our hearts and our souls.', 'author': '<Author:0x00007fbd21a300f8>'}\n",
      "---\n",
      "{'theme': 'LEADERSHIP', 'url': '/inspirational-quotes/8219-before-you-are-a-leader-success-is-all-about', 'img': 'https://assets.passiton.com/quotes/quote_artwork/8219/medium/202200603_friday_quote.jpg?1652396482', 'lines': 'Before you are a leader, success is all about growing yourself. When you become a leader, success is all about growing others.', 'author': '<Author:0x00007fbd21a6c508>'}\n",
      "---\n",
      "{'theme': 'LEADERSHIP', 'url': '/inspirational-quotes/7732-leadership-is-unlocking-peoples-potential-to', 'img': 'https://assets.passiton.com/quotes/quote_artwork/7732/medium/202200602_thursday_quote.jpg?1652396464', 'lines': \"Leadership is unlocking people's potential to become better.\", 'author': '<Author:0x00007fbd21a94800>'}\n",
      "---\n",
      "{'theme': 'LEADERSHIP', 'url': '/inspirational-quotes/8221-if-your-actions-create-a-legacy-that-inspires', 'img': 'https://assets.passiton.com/quotes/quote_artwork/8221/medium/202200601_wednesday_quote.jpg?1652396446', 'lines': 'If your actions create a legacy that inspires others to dream more, learn more, do more and become more, then, you are an excellent leader.', 'author': '<Author:0x00007fbd21acd7b8>'}\n",
      "---\n",
      "{'theme': 'LEADERSHIP', 'url': '/inspirational-quotes/7789-great-things-can-be-achieved-by-leading-through', 'img': 'https://assets.passiton.com/quotes/quote_artwork/7789/medium/20220531_tuesday_quote.jpg?1652396429', 'lines': 'Great things can be achieved by leading through wisdom, empathy, and integrity—with no other agenda than humanity.', 'author': '<Author:0x00007fbd21afb488>'}\n",
      "---\n",
      "{'theme': 'LEADERSHIP', 'url': '/inspirational-quotes/6193-do-not-follow-where-the-path-may-lead-go', 'img': 'https://assets.passiton.com/quotes/quote_artwork/6193/medium/20220530_monday_quote.jpg?1652396407', 'lines': 'Do not follow where the path may lead. Go instead where there is no path and leave a trail.', 'author': '<Author:0x00007fbd21b1dd58>'}\n",
      "---\n",
      "{'theme': 'FRIENDSHIP', 'url': '/inspirational-quotes/8330-i-would-rather-walk-with-a-friend-in-the-dark', 'img': 'https://assets.passiton.com/quotes/quote_artwork/8330/medium/20220527_friday_quote.jpg?1652392408', 'lines': 'I would rather walk with a friend in the dark, than alone in the light.', 'author': '<Author:0x00007fbd21b4b190>'}\n",
      "---\n",
      "{'theme': 'FRIENDSHIP', 'url': '/inspirational-quotes/8036-good-friends-are-like-stars-you-dont-always', 'img': 'https://assets.passiton.com/quotes/quote_artwork/8036/medium/20220526_thursday_quote.jpg?1652392380', 'lines': \"Good friends are like stars. You don't always see them, but you know they're always there.\", 'author': '<Author:0x00007fbd21b77da8>'}\n",
      "---\n",
      "{'theme': 'FRIENDSHIP', 'url': '/inspirational-quotes/8331-try-to-be-a-rainbow-in-someones-cloud', 'img': 'https://assets.passiton.com/quotes/quote_artwork/8331/medium/20220525_wednesday_quote.jpg?1652392349', 'lines': \"Try to be a rainbow in someone's cloud.\", 'author': '<Author:0x00007fbd21b94e80>'}\n",
      "---\n",
      "{'theme': 'FRIENDSHIP', 'url': '/inspirational-quotes/7641-friends-are-medicine-for-a-wounded-heart-and', 'img': 'https://assets.passiton.com/quotes/quote_artwork/7641/medium/20220524_tuesday_quote.jpg?1652392319', 'lines': 'Friends are medicine for a wounded heart and vitamins for a hopeful soul.', 'author': '<Author:0x00007fbd21bc74e8>'}\n",
      "---\n",
      "{'theme': 'FRIENDSHIP', 'url': '/inspirational-quotes/8192-anything-is-possible-when-you-have-the-right', 'img': 'https://assets.passiton.com/quotes/quote_artwork/8192/medium/20220523_monday_quote.jpg?1652392295', 'lines': 'Anything is possible when you have the right people there to support you.', 'author': '<Author:0x00007fbd21be4c78>'}\n",
      "---\n",
      "{'theme': 'CURIOSITY', 'url': '/inspirational-quotes/4543-be-curious-not-judgmental', 'img': 'https://assets.passiton.com/quotes/quote_artwork/4543/medium/20220520_friday_quote.jpg?1652390708', 'lines': 'Be curious, not judgmental. ', 'author': '<Author:0x00007fbd21c12ec0>'}\n",
      "---\n",
      "{'theme': 'CURIOSITY', 'url': '/inspirational-quotes/6799-above-all-watch-with-glittering-eyes-the-whole', 'img': 'https://assets.passiton.com/quotes/quote_artwork/6799/medium/20220519_thursday_quote.jpg?1652390687', 'lines': 'Above all, watch with glittering eyes the whole world around you, because the greatest secrets are always hidden in the most unlikely places.', 'author': '<Author:0x00007fbd21c43598>'}\n",
      "---\n",
      "{'theme': 'CURIOSITY', 'url': '/inspirational-quotes/8329-curiosity-is-more-important-than-knowledge', 'img': 'https://assets.passiton.com/quotes/quote_artwork/8329/medium/20220518_wednesday_quote.jpg?1652390654', 'lines': 'Curiosity is more important than knowledge.', 'author': '<Author:0x00007fbd21c6eec8>'}\n",
      "---\n",
      "{'theme': 'CURIOSITY', 'url': '/inspirational-quotes/8328-i-think-at-a-childs-birth-if-a-mother-could', 'img': 'https://assets.passiton.com/quotes/quote_artwork/8328/medium/20220517_tuesday_quote.jpg?1652390623', 'lines': \"I think, at a child's birth, if a mother could ask a fairy godmother to endow it with the most useful gift, that gift would be curiosity.\", 'author': '<Author:0x00007fbd21ca7bd8>'}\n",
      "---\n",
      "{'theme': 'CURIOSITY', 'url': '/inspirational-quotes/4014-somewhere-something-incredible-is-waiting-to', 'img': 'https://assets.passiton.com/quotes/quote_artwork/4014/medium/20220516_monday_quote.jpg?1652390606', 'lines': 'Somewhere, something incredible is waiting to be known.', 'author': '<Author:0x00007fbd21cc4508>'}\n",
      "---\n",
      "{'theme': 'ENCOURAGEMENT', 'url': '/inspirational-quotes/7826-the-world-needs-dreamers-and-the-world-needs', 'img': 'https://assets.passiton.com/quotes/quote_artwork/7826/medium/20220513_friday_quote.jpg?1651853654', 'lines': 'The world needs dreamers and the world needs doers. But above all, the world needs dreamers who do.', 'author': '<Author:0x00007fbd21cf5900>'}\n",
      "---\n",
      "{'theme': 'ENCOURAGEMENT', 'url': '/inspirational-quotes/7075-our-chief-want-is-someone-who-will-inspire-us', 'img': 'https://assets.passiton.com/quotes/quote_artwork/7075/medium/20220512_thursday_quote.jpg?1651853635', 'lines': 'Our chief want is someone who will inspire us to be what we know we could be.', 'author': '<Author:0x00007fbd21d1da68>'}\n",
      "---\n",
      "{'theme': 'ENCOURAGEMENT', 'url': '/inspirational-quotes/5008-encouragement-is-oxygen-to-the-soul', 'img': 'https://assets.passiton.com/quotes/quote_artwork/5008/medium/20220511_wednesday_quote.jpg?1651853616', 'lines': 'Encouragement is oxygen to the soul.', 'author': '<Author:0x00007fbd21d4ef50>'}\n",
      "---\n",
      "{'theme': 'ENCOURAGEMENT', 'url': '/inspirational-quotes/3521-correction-does-much-but-encouragement-does-more', 'img': 'https://assets.passiton.com/quotes/quote_artwork/3521/medium/20220510_tuesday_quote.jpg?1651853598', 'lines': 'Correction does much, but encouragement does more.', 'author': '<Author:0x00007fbd21d6d298>'}\n",
      "---\n",
      "{'theme': 'ENCOURAGEMENT', 'url': '/inspirational-quotes/3434-most-of-us-swimming-against-the-tides-of', 'img': 'https://assets.passiton.com/quotes/quote_artwork/3434/medium/20220509_monday_quote.jpg?1651853509', 'lines': 'Most of us, swimming against the tides of trouble the world knows nothing about, need only a bit of praise or encouragement—and we will make the goal.', 'author': '<Author:0x00007fbd21d9b788>'}\n",
      "---\n",
      "{'theme': 'SPREAD YOUR WINGS', 'url': '/inspirational-quotes/8327-ive-been-absolutely-terrified-every-moment-of', 'img': 'https://assets.passiton.com/quotes/quote_artwork/8327/medium/20220506_friday_quote.jpg?1651176300', 'lines': \"I've been absolutely terrified every moment of my life and I've never let it keep me from doing a single thing that I wanted to do.\", 'author': '<Author:0x00007fbd21dcbd70>'}\n",
      "---\n",
      "{'theme': 'SPREAD YOUR WINGS', 'url': '/inspirational-quotes/7884-embrace-uncertainty-some-of-the-most-beautiful', 'img': 'https://assets.passiton.com/quotes/quote_artwork/7884/medium/20220505_thursday_quote.jpg?1651176276', 'lines': 'Embrace uncertainty. Some of the most beautiful chapters in our lives won’t have a title until much later.', 'author': '<Author:0x00007fbd21df7da8>'}\n",
      "---\n",
      "{'theme': 'SPREAD YOUR WINGS', 'url': '/inspirational-quotes/3586-a-mind-that-is-stretched-by-a-new-experience', 'img': 'https://assets.passiton.com/quotes/quote_artwork/3586/medium/20220504_wednesday_quote.jpg?1651176241', 'lines': 'A mind that is stretched by a new experience can never go back to its old dimensions.', 'author': '<Author:0x00007fbd21e16320>'}\n",
      "---\n",
      "{'theme': 'SPREAD YOUR WINGS', 'url': '/inspirational-quotes/8326-and-then-there-is-the-most-dangerous-risk-of', 'img': 'https://assets.passiton.com/quotes/quote_artwork/8326/medium/20220503_tuesday_quote.jpg?1651176218', 'lines': 'And then there is the most dangerous risk of all...the risk of spending your life not doing what you want on the bet you can buy yourself the freedom to do it later.', 'author': '<Author:0x00007fbd21e341b8>'}\n",
      "---\n",
      "{'theme': 'SPREAD YOUR WINGS', 'url': '/inspirational-quotes/6720-no-one-can-really-predict-to-what-heights-you', 'img': 'https://assets.passiton.com/quotes/quote_artwork/6720/medium/20220502_monday_quote.jpg?1651176192', 'lines': 'No one can really predict to what heights you might soar. Even you will not know until you spread your wings.', 'author': '<Author:0x00007fbd21e6f650>'}\n",
      "---\n",
      "{'theme': 'SMILE', 'url': '/inspirational-quotes/8325-smile-at-the-obstacle-for-it-is-a-bridge', 'img': 'https://assets.passiton.com/quotes/quote_artwork/8325/medium/20220429_friday_quote.jpg?1650648519', 'lines': 'Smile at the obstacle, for it is a bridge.', 'author': '<Author:0x00007fbd21e9ae18>'}\n",
      "---\n",
      "{'theme': 'SMILE', 'url': '/inspirational-quotes/7043-we-shall-never-know-all-the-good-that-a-simple', 'img': 'https://assets.passiton.com/quotes/quote_artwork/7043/medium/20220428_thursday_quote.jpg?1650648496', 'lines': 'We shall never know all the good that a simple smile can do.', 'author': '<Author:0x00007fbd21ecbab8>'}\n",
      "---\n",
      "{'theme': 'SMILE', 'url': '/inspirational-quotes/7530-a-warm-smile-is-the-universal-language-of', 'img': 'https://assets.passiton.com/quotes/quote_artwork/7530/medium/20220427_wednesday_quote.jpg?1650648477', 'lines': 'A warm smile is the universal language of kindness.', 'author': '<Author:0x00007fbd21f03120>'}\n",
      "---\n",
      "{'theme': 'SMILE', 'url': '/inspirational-quotes/7598-a-gentle-word-a-kind-look-a-good-natured', 'img': 'https://assets.passiton.com/quotes/quote_artwork/7598/medium/20220426_tuesday_quote.jpg?1650648453', 'lines': 'A gentle word, a kind look, a good-natured smile can work wonders and accomplish miracles.', 'author': '<Author:0x00007fbd21f2e488>'}\n",
      "---\n",
      "{'theme': 'HARD WORK', 'url': '/inspirational-quotes/3549-if-it-wasnt-hard-everyone-would-do-it-its-the', 'img': 'https://assets.passiton.com/quotes/quote_artwork/3549/medium/20220422_friday_quote_updated.jpg?1650641875', 'lines': \"If it wasn't hard, everyone would do it. It's the hard that makes it great.\", 'author': '<Author:0x00007fbd21f56668>'}\n",
      "---\n",
      "{'theme': 'HARD WORK', 'url': '/inspirational-quotes/6141-the-highest-reward-for-mans-toil-is-not-what-he', 'img': 'https://assets.passiton.com/quotes/quote_artwork/6141/medium/20220421_thursday_quote.jpg?1650051980', 'lines': \"The highest reward for man's toil is not what he gets for it, but what he becomes by it.\", 'author': '<Author:0x00007fbd21f87218>'}\n",
      "---\n"
     ]
    }
   ],
   "source": [
    "import requests\n",
    "from bs4 import BeautifulSoup\n",
    "import csv\n",
    "\n",
    "import ssl\n",
    "ssl._create_default_https_context = ssl._create_unverified_context\n",
    "  \n",
    "URL = \"http://www.values.com/inspirational-quotes\"\n",
    "r = requests.get(URL, verify=False)\n",
    "  \n",
    "soup = BeautifulSoup(r.content, 'html5lib')\n",
    "  \n",
    "quotes=[]  # a list to store quotes\n",
    "  \n",
    "table = soup.find('div', attrs = {'id':'all_quotes'})\n",
    "\n",
    "\n",
    "for row in table.findAll('div',\n",
    "                         attrs = {'class':'col-6 col-lg-4 text-center margin-30px-bottom sm-margin-30px-top'}):\n",
    "    quote = {}\n",
    "    quote['theme'] = row.h5.text\n",
    "    quote['url'] = row.a['href']\n",
    "    quote['img'] = row.img['src']\n",
    "    quote['lines'] = row.img['alt'].split(\" #\")[0]\n",
    "    quote['author'] = row.img['alt'].split(\" #\")[1]\n",
    "    quotes.append(quote)\n",
    "\n",
    "\n",
    "filename = 'inspirational_quotes6.csv'\n",
    "with open(filename, 'a', newline='') as f:\n",
    "    w = csv.DictWriter(f,['theme','url','img','lines','author'])\n",
    "    w.writeheader()\n",
    "    for quote in quotes:\n",
    "        print(quote)\n",
    "        print('---')\n",
    "        w.writerow(quote)"
   ]
  },
  {
   "cell_type": "code",
   "execution_count": null,
   "id": "558c42a6",
   "metadata": {},
   "outputs": [],
   "source": [
    "import requests\n",
    "from bs4 import BeautifulSoup\n",
    "import csv\n",
    "# Make a request\n",
    "page = requests.get(\n",
    "    \"https://www.hpe.com/us/en/customer-case-studies.html\")\n",
    "soup = BeautifulSoup(page.content, 'html.parser')\n",
    "\n",
    "all_cards = []\n",
    "\n",
    "products = soup.select('div', class_=\"item elb-image-card \")\n",
    "\n",
    "for product in products:\n",
    "    sector = product.select(\"span\", class_=\"label-text\").text\n",
    "    name = product.select('h5', class_=\"title\").text\n",
    "    url=product.select('a', class_=\"hpe-arrow-link no-js typo3 \").get('href')\n",
    "    all_products.append({\"Sector\":sector,\"Name\":name,\"url\":url})\n",
    "\n",
    "\n",
    "\n",
    "keys = all_products[0].keys()\n",
    "\n",
    "with open('products4.csv', 'w', newline='') as output_file:\n",
    "    dict_writer = csv.DictWriter(output_file, keys)\n",
    "    dict_writer.writeheader()\n",
    "    dict_writer.writerows(all_products)"
   ]
  }
 ],
 "metadata": {
  "kernelspec": {
   "display_name": "Python 3",
   "language": "python",
   "name": "python3"
  },
  "language_info": {
   "codemirror_mode": {
    "name": "ipython",
    "version": 3
   },
   "file_extension": ".py",
   "mimetype": "text/x-python",
   "name": "python",
   "nbconvert_exporter": "python",
   "pygments_lexer": "ipython3",
   "version": "3.8.8"
  }
 },
 "nbformat": 4,
 "nbformat_minor": 5
}
