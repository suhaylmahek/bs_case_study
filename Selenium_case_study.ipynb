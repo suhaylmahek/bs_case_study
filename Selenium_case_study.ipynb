{
 "cells": [
  {
   "cell_type": "code",
   "execution_count": 34,
   "id": "f597dda9",
   "metadata": {},
   "outputs": [
    {
     "name": "stderr",
     "output_type": "stream",
     "text": [
      "<ipython-input-34-a03eee6e3442>:2: DeprecationWarning: executable_path has been deprecated, please pass in a Service object\n",
      "  driver = webdriver.Chrome(r'C:\\chromedriver.exe')\n"
     ]
    }
   ],
   "source": [
    "from selenium import webdriver\n",
    "driver = webdriver.Chrome(r'C:\\chromedriver.exe')\n",
    "driver.get('https://www.hpe.com/us/en/customer-case-studies.html')\n"
   ]
  },
  {
   "cell_type": "code",
   "execution_count": 35,
   "id": "b090a42e",
   "metadata": {},
   "outputs": [
    {
     "name": "stderr",
     "output_type": "stream",
     "text": [
      "<ipython-input-35-edf0aa845f58>:1: DeprecationWarning: find_elements_by_class_name is deprecated. Please use find_elements(by=By.CLASS_NAME, value=name) instead\n",
      "  sector = driver.find_elements_by_class_name('label')\n",
      "<ipython-input-35-edf0aa845f58>:2: DeprecationWarning: find_elements_by_xpath is deprecated. Please use find_elements(by=By.XPATH, value=xpath) instead\n",
      "  name= driver.find_elements_by_xpath('//div[@class=\"text-content\"]//h5[@class=\"title\"]')\n",
      "<ipython-input-35-edf0aa845f58>:3: DeprecationWarning: find_elements_by_xpath is deprecated. Please use find_elements(by=By.XPATH, value=xpath) instead\n",
      "  elems = driver.find_elements_by_xpath('//a[@class=\"hpe-arrow-link no-js typo3 \"]')\n"
     ]
    }
   ],
   "source": [
    "sector = driver.find_elements_by_class_name('label')\n",
    "name= driver.find_elements_by_xpath('//div[@class=\"text-content\"]//h5[@class=\"title\"]')\n",
    "elems = driver.find_elements_by_xpath('//a[@class=\"hpe-arrow-link no-js typo3 \"]')\n"
   ]
  },
  {
   "cell_type": "code",
   "execution_count": 36,
   "id": "0af47429",
   "metadata": {},
   "outputs": [
    {
     "name": "stdout",
     "output_type": "stream",
     "text": [
      "18\n",
      "18\n",
      "18\n"
     ]
    }
   ],
   "source": [
    "print(len(sector))\n",
    "print(len(name))\n",
    "print(len(elems))"
   ]
  },
  {
   "cell_type": "code",
   "execution_count": 37,
   "id": "f6514a11",
   "metadata": {},
   "outputs": [],
   "source": [
    "Sector=[]\n",
    "Name=[]\n",
    "Link=[]"
   ]
  },
  {
   "cell_type": "code",
   "execution_count": 38,
   "id": "cd402a02",
   "metadata": {},
   "outputs": [
    {
     "name": "stdout",
     "output_type": "stream",
     "text": [
      "https://www.hpe.com/us/en/customer-case-studies.html?emodal=/us/en/customer-case-studies/modal-fragment/e6157.fragment.html\n",
      "https://www.hpe.com/us/en/customer-case-studies.html?emodal=/us/en/customer-case-studies/modal-fragment/e5891.fragment.html\n",
      "https://www.hpe.com/us/en/customer-case-studies.html?emodal=/us/en/customer-case-studies/modal-fragment/e6154.fragment.html\n",
      "https://www.hpe.com/us/en/customer-case-studies.html?emodal=/us/en/customer-case-studies/modal-fragment/e6160.fragment.html\n",
      "https://www.hpe.com/us/en/customer-case-studies.html?emodal=/us/en/customer-case-studies/modal-fragment/e5888.fragment.html\n",
      "https://www.hpe.com/us/en/customer-case-studies.html?emodal=/us/en/customer-case-studies/modal-fragment/e6075.fragment.html\n",
      "https://www.hpe.com/us/en/customer-case-studies.html?emodal=/us/en/customer-case-studies/modal-fragment/e5622.fragment.html\n",
      "https://www.hpe.com/us/en/customer-case-studies.html?emodal=/us/en/customer-case-studies/modal-fragment/e5961.fragment.html\n",
      "https://www.hpe.com/us/en/customer-case-studies.html?emodal=/us/en/customer-case-studies/modal-fragment/e5618.fragment.html\n",
      "https://www.hpe.com/us/en/customer-case-studies.html?emodal=/us/en/customer-case-studies/modal-fragment/e5885.fragment.html\n",
      "https://www.hpe.com/us/en/customer-case-studies.html?emodal=/us/en/customer-case-studies/modal-fragment/e5614.fragment.html\n",
      "https://www.hpe.com/us/en/customer-case-studies.html?emodal=/us/en/customer-case-studies/modal-fragment/e5615.fragment.html\n",
      "https://www.hpe.com/us/en/customer-case-studies.html?emodal=/us/en/customer-case-studies/modal-fragment/e5865.fragment.html\n",
      "https://www.hpe.com/us/en/customer-case-studies.html?emodal=/us/en/customer-case-studies/modal-fragment/e5613.fragment.html\n",
      "https://www.hpe.com/us/en/customer-case-studies.html?emodal=/us/en/customer-case-studies/modal-fragment/e5498.fragment.html\n",
      "https://www.hpe.com/us/en/customer-case-studies.html?emodal=/us/en/customer-case-studies/modal-fragment/e5187.fragment.html\n",
      "https://www.hpe.com/us/en/customer-case-studies.html?emodal=/us/en/customer-case-studies/modal-fragment/e5356.fragment.html\n",
      "https://www.hpe.com/us/en/customer-case-studies.html?emodal=/us/en/customer-case-studies/modal-fragment/e5388.fragment.html\n"
     ]
    }
   ],
   "source": [
    "for i in range(len(elems)):\n",
    "    link=elems[i].get_attribute(\"href\")\n",
    "    print(link)\n",
    "    Link.append(link)"
   ]
  },
  {
   "cell_type": "code",
   "execution_count": 39,
   "id": "f59171ee",
   "metadata": {},
   "outputs": [],
   "source": [
    "for i in range(len(sector)):\n",
    "    Sector.append(sector[i].text)\n",
    "    Name.append(name[i].text)\n",
    "    "
   ]
  },
  {
   "cell_type": "code",
   "execution_count": 40,
   "id": "17bff09c",
   "metadata": {},
   "outputs": [
    {
     "name": "stdout",
     "output_type": "stream",
     "text": [
      "Financial Technology ICE Mortgage Technology https://www.hpe.com/us/en/customer-case-studies.html?emodal=/us/en/customer-case-studies/modal-fragment/e5891.fragment.html\n"
     ]
    }
   ],
   "source": [
    "print(Sector[1],Name[1],Link[1])"
   ]
  },
  {
   "cell_type": "code",
   "execution_count": 48,
   "id": "6fcccdfb",
   "metadata": {},
   "outputs": [],
   "source": [
    "import csv\n",
    "r = zip(Sector, Name, Link)\n"
   ]
  },
  {
   "cell_type": "code",
   "execution_count": 49,
   "id": "239a277c",
   "metadata": {},
   "outputs": [],
   "source": [
    "with open('Sample.csv', \"w\") as s:\n",
    "    w = csv.writer(s)\n",
    "    for row in r:\n",
    "        w.writerow(row)"
   ]
  },
  {
   "cell_type": "code",
   "execution_count": null,
   "id": "2bf6ea94",
   "metadata": {},
   "outputs": [],
   "source": []
  }
 ],
 "metadata": {
  "kernelspec": {
   "display_name": "Python 3",
   "language": "python",
   "name": "python3"
  },
  "language_info": {
   "codemirror_mode": {
    "name": "ipython",
    "version": 3
   },
   "file_extension": ".py",
   "mimetype": "text/x-python",
   "name": "python",
   "nbconvert_exporter": "python",
   "pygments_lexer": "ipython3",
   "version": "3.8.8"
  }
 },
 "nbformat": 4,
 "nbformat_minor": 5
}
